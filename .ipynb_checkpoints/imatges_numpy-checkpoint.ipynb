{
 "cells": [
  {
   "cell_type": "markdown",
   "metadata": {},
   "source": [
    "# Nivell 1\n",
    "Treballem els conceptes de l'estructura d'una matriu, dimensió, eixos i la vectorització que ens permet reduir l'ús de for loops en operacions aritmètiques o matemàtiques..\n",
    "\n",
    "+ Exercici 1\n",
    "    + Crea un np.array d'una dimensió, que inclogui l'almenys 8 nombres sencers, data type int64. Mostra la dimensió i la forma de la matriu. .\n",
    "\n",
    "+ Exercici 2\n",
    "    + De la matriu de l'exercici 1, calcula el valor mitjà dels valors introduïts i resta la mitjana resultant de cada un dels valors de la matriu.\n",
    "\n",
    "+ Exercici 3\n",
    "    + Crea una matriu bidimensional amb una forma de 5 x 5. Extreu el valor màxim de la matriu, i els valors màxims de cadascun dels seus eixos.\n",
    "\n",
    "# Nivell 2\n",
    "Treballem els conceptes de l'estructura d'una matriu, Broadcasting, indexació, Mask..\n",
    "\n",
    "- Exercici 4\n",
    "    + Mostreu-me amb exemples de diferents matrius, la regla fonamental de Broadcasting que diu : \"les matrius es poden transmetre / broadcast si les seves dimensions coincideixen o si una de les matrius té una mida d'1\".\n",
    "\n",
    "- Exercici 5\n",
    "    + Utilitza la Indexació per extreure els valors d'una columna i una fila de la matriu. I suma els seus valors.\n",
    "\n",
    "- Exercici 6\n",
    "    + Mask la matriu anterior, realitzeu un càlcul booleà vectoritzat, agafant cada element i comprovant si es divideix uniformement per quatre.\n",
    "    + Això retorna una matriu de mask de la mateixa forma amb els resultats elementals del càlcul.\n",
    "\n",
    "- Exercici 7\n",
    "    + A continuació, utilitzeu aquesta màscara per indexar a la matriu de números original. Això fa que la matriu perdi la seva forma original, reduint-la a una dimensió, però encara obteniu les dades que esteu cercant.\n",
    "\n",
    "# Nivell 3\n",
    "Manipulació d’imatges amb Matplotlib.\n",
    "\n",
    "Carregareu qualsevol imatge (jpg, png ..) amb Matplotlib. adoneu-vos que les imatges RGB (Red, Green, Blue) són realment només amplades × alçades × 3 matrius (tres canals Vermell, Verd i Blau), una per cada color de nombres enters int8,\n",
    "\n",
    "manipuleu aquests bytes i torneu a utilitzar Matplotlib per desar la imatge modificada un cop hàgiu acabat.\n",
    "\n",
    "Ajuda:Importeu, import matplotlib.image as mpimg. estudieu el metodde mpimg.imread(()\n",
    "\n",
    "- Exercici 8\n",
    "    + Mostreu-me a veure que passa quan eliminem el canal G Verd o B Blau.\n",
    "\n",
    "    + Mostreu-me a veure què passa quan eliminem el canal G Verd o B Blau. Hauries d'utilitzar la indexació per seleccionar el canal que voleu anul·lar.\n",
    "\n",
    "    + Utilitzar el mètode, mpimg.imsave () de la llibreria importada, per guardar les imatges modificades i que haureu de pujar al vostre repositori a github."
   ]
  },
  {
   "cell_type": "markdown",
   "metadata": {},
   "source": [
    "# Nivell 1\n",
    "Treballem els conceptes de l'estructura d'una matriu, dimensió, eixos i la vectorització que ens permet reduir l'ús de for loops en operacions aritmètiques o matemàtiques..\n",
    "\n",
    "+ Exercici 1\n",
    "    + Crea un np.array d'una dimensió, que inclogui l'almenys 8 nombres sencers, data type int64. Mostra la dimensió i la forma de la matriu. .\n",
    "\n",
    "+ Exercici 2\n",
    "    + De la matriu de l'exercici 1, calcula el valor mitjà dels valors introduïts i resta la mitjana resultant de cada un dels valors de la matriu.\n",
    "\n",
    "+ Exercici 3\n",
    "    + Crea una matriu bidimensional amb una forma de 5 x 5. Extreu el valor màxim de la matriu, i els valors màxims de cadascun dels seus eixos."
   ]
  },
  {
   "cell_type": "code",
   "execution_count": 9,
   "metadata": {},
   "outputs": [
    {
     "name": "stdout",
     "output_type": "stream",
     "text": [
      "La forma del np.array es:  (13,)\n",
      "La dimensió del np.array es:  1\n",
      "El promig de la matriu és:  9.615384615384615\n",
      "La matriu resultant de restar el promig és:  \n",
      " [ 7.38461538 -5.61538462 -3.61538462 -3.61538462 -8.61538462 -1.61538462\n",
      "  1.38461538  6.38461538 -8.61538462  0.38461538 -1.61538462  8.38461538\n",
      "  9.38461538]\n",
      "El promig de l'eix fileres és:  [ 9.6  3.6 12.2 11.4  9.4]\n",
      "El promig de l'eix col·lumnes és:  [ 6.6 11.6  5.   9.  14. ]\n"
     ]
    }
   ],
   "source": [
    "import numpy as np\n",
    "\n",
    "#Exercici 1: Crea un np.array, mostra la dimensió i la forma\n",
    "numeros_array = np.array([17, 4, 6, 6, 1, 8, 11, 16, 1, 10, 8, 18, 19])\n",
    "print(\"La forma del np.array es: \", numeros_array.shape)\n",
    "\n",
    "print(\"La dimensió del np.array es: \", numeros_array.ndim)\n",
    "\n",
    "#Exercici 2: calcula promig i resta'l de la matriu\n",
    "print(\"El promig de la matriu és: \", numeros_array.mean())\n",
    "\n",
    "numeros_array = numeros_array - (numeros_array.mean())\n",
    "print(\"La matriu resultant de restar el promig és: \", \"\\n\", numeros_array)\n",
    "\n",
    "#Exercici 3: crea una matriu bidimensional 5x5. Extreu el maxim i el màxim dels eixos.\n",
    "matriu_bi = np.array([[2, 13, 5, 8, 20], [8, 2, 0, 1, 7], [4, 11, 13, 19, 14], [4, 17, 5, 17, 14], [15, 15, 2, 0, 15]])\n",
    "\n",
    "print(\"El promig de cada fileres és: \",np.mean(matriu_bi,1))\n",
    "print(\"El promig de cada col·lumna és: \",np.mean(matriu_bi,0))"
   ]
  },
  {
   "cell_type": "markdown",
   "metadata": {},
   "source": [
    "# Nivell 2\n",
    "Treballem els conceptes de l'estructura d'una matriu, Broadcasting, indexació, Mask..\n",
    "\n",
    "- Exercici 4\n",
    "    + Mostreu-me amb exemples de diferents matrius, la regla fonamental de Broadcasting que diu : \"les matrius es poden transmetre / broadcast si les seves dimensions coincideixen o si una de les matrius té una mida d'1\".\n",
    "\n",
    "- Exercici 5\n",
    "    + Utilitza la Indexació per extreure els valors d'una columna i una fila de la matriu. I suma els seus valors.\n",
    "\n",
    "- Exercici 6\n",
    "    + Mask la matriu anterior, realitzeu un càlcul booleà vectoritzat, agafant cada element i comprovant si es divideix uniformement per quatre.\n",
    "    + Això retorna una matriu de mask de la mateixa forma amb els resultats elementals del càlcul.\n",
    "\n",
    "- Exercici 7\n",
    "    + A continuació, utilitzeu aquesta màscara per indexar a la matriu de números original. Això fa que la matriu perdi la seva forma original, reduint-la a una dimensió, però encara obteniu les dades que esteu cercant."
   ]
  },
  {
   "cell_type": "code",
   "execution_count": 84,
   "metadata": {},
   "outputs": [
    {
     "name": "stdout",
     "output_type": "stream",
     "text": [
      "Array a [0 1 2 3] shape a (4,)\n",
      "Array b [0 1 2 3] shape b (4,)\n",
      "Array c(a+b) [0 2 4 6] shape c (4,)\n",
      "Array d [0 1 2] shape d (3,)\n",
      "Array e [0 1 2 3] shape e (4,)\n",
      "Array f(d+e) \n",
      " [[0 1 2 3]\n",
      " [1 2 3 4]\n",
      " [2 3 4 5]] \n",
      " shape f (3, 4)\n",
      "tots 2 son 1d pero amb diferent mida.  \n",
      " S'afegeix un nou eix a l'array d.  \n",
      " D'aquesta manera el array d passa a tenir una estructura 4x1 cosa que permet operar amb un altre array 1d (array e)\n"
     ]
    }
   ],
   "source": [
    "#Exercici 4: Broadcasting\n",
    "a = np.arange(4)  #1d\n",
    "b = np.arange(4)  #1d\n",
    "c = a + b  #al tenir la mateixa dimensió es poden fer operacions\n",
    "\n",
    "print(\"Array a\",a, \"shape a\", a.shape)\n",
    "print(\"Array b\",b,\"shape b\", b.shape)\n",
    "print(\"Array c(a+b)\",c,\"shape c\",c.shape)\n",
    "\n",
    "d= np.arange (3) #1d\n",
    "e= np.arange (4)#1d\n",
    "f=d[:, np.newaxis] + e \n",
    "\n",
    "#tots 2 son 1d pero amb diferent mida. \n",
    "#S'afegeix un nou eix a l'array d. \n",
    "#D'aquesta manera el array d passa a tenir una estructura 4x1 \n",
    "#cosa que permet operar amb un altre array 1d (array e)\n",
    "\n",
    "print(\"Array d\",d, \"shape d\", d.shape)\n",
    "print(\"Array e\",e,\"shape e\", e.shape)\n",
    "print(\"Array f(d+e)\",\"\\n\",f,\"\\n\",\"shape f\",f.shape)\n",
    "print(\"Tots 2 son 1d pero amb diferent mida. \",\"\\n\",\"S'afegeix un nou eix a l'array d. \",\n",
    "      \"\\n\",\"D'aquesta manera el array d passa a tenir una estructura 4x1 cosa que permet operar amb un altre array 1d (array e)\")\n",
    "\n"
   ]
  },
  {
   "cell_type": "code",
   "execution_count": 117,
   "metadata": {},
   "outputs": [
    {
     "name": "stdout",
     "output_type": "stream",
     "text": [
      "Fila: [2 3 4 5] \n",
      "Columna:  [1 2 3 4] \n",
      "Suma: [3 5 7 9]\n",
      "[[0 1 2 3]\n",
      " [1 2 3 4]\n",
      " [2 3 4 5]]\n",
      "[[0 -- -- --]\n",
      " [-- -- -- 4]\n",
      " [-- -- 4 --]]\n"
     ]
    }
   ],
   "source": [
    "#Exercici 5 Utilitza la Indexació per extreure els valors d'una columna i una fila de la matriu. I suma els seus valors.\n",
    "#Extreuem la segona columna, i la ultima fila per fer la suma\n",
    "a = np.arange(3)  #1d\n",
    "b = np.arange(4)  #1d\n",
    "c = a[:, np.newaxis] + b\n",
    "\n",
    "fila = c[2]\n",
    "columna = c[1]\n",
    "suma = fila + columna\n",
    "\n",
    "print(\"Fila:\", fila, \"\\nColumna: \", columna, \"\\nSuma:\", suma)\n",
    "\n",
    "#Exercici 6\n",
    "#Mask la matriu anterior, realitzeu un càlcul booleà vectoritzat, agafant cada element i comprovant si es divideix uniformement per quatre.\n",
    "#Això retorna una matriu de mask de la mateixa forma amb els resultats elementals del càlcul.\n",
    "import numpy.ma as ma\n",
    "c = c\n",
    "mascara = ma.masked_array(c, mask=[~((a%4)==0) for a in c])\n",
    "print(c)\n",
    "print(mascara)\n"
   ]
  },
  {
   "cell_type": "code",
   "execution_count": null,
   "metadata": {},
   "outputs": [],
   "source": []
  }
 ],
 "metadata": {
  "kernelspec": {
   "display_name": "Python 3",
   "language": "python",
   "name": "python3"
  },
  "language_info": {
   "codemirror_mode": {
    "name": "ipython",
    "version": 3
   },
   "file_extension": ".py",
   "mimetype": "text/x-python",
   "name": "python",
   "nbconvert_exporter": "python",
   "pygments_lexer": "ipython3",
   "version": "3.8.5"
  },
  "latex_envs": {
   "LaTeX_envs_menu_present": true,
   "autoclose": false,
   "autocomplete": true,
   "bibliofile": "biblio.bib",
   "cite_by": "apalike",
   "current_citInitial": 1,
   "eqLabelWithNumbers": true,
   "eqNumInitial": 1,
   "hotkeys": {
    "equation": "Ctrl-E",
    "itemize": "Ctrl-I"
   },
   "labels_anchors": false,
   "latex_user_defs": false,
   "report_style_numbering": false,
   "user_envs_cfg": false
  },
  "varInspector": {
   "cols": {
    "lenName": 16,
    "lenType": 16,
    "lenVar": 40
   },
   "kernels_config": {
    "python": {
     "delete_cmd_postfix": "",
     "delete_cmd_prefix": "del ",
     "library": "var_list.py",
     "varRefreshCmd": "print(var_dic_list())"
    },
    "r": {
     "delete_cmd_postfix": ") ",
     "delete_cmd_prefix": "rm(",
     "library": "var_list.r",
     "varRefreshCmd": "cat(var_dic_list()) "
    }
   },
   "types_to_exclude": [
    "module",
    "function",
    "builtin_function_or_method",
    "instance",
    "_Feature"
   ],
   "window_display": false
  }
 },
 "nbformat": 4,
 "nbformat_minor": 4
}
